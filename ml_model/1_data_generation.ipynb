{
 "cells": [
  {
   "cell_type": "code",
   "execution_count": 207,
   "metadata": {},
   "outputs": [],
   "source": [
    "import random\n",
    "import uuid\n",
    "from faker import Faker\n",
    "import pandas as pd\n",
    "from sklearn.utils import shuffle\n",
    "import datetime\n",
    "import numpy as np"
   ]
  },
  {
   "cell_type": "code",
   "execution_count": 208,
   "metadata": {},
   "outputs": [],
   "source": [
    "# Proportions\n",
    "num_rows = 1000  # Total dataset size\n",
    "\n",
    "classes_and_proportions = [\n",
    "    (\"certain\", 0.05),\n",
    "    (\"likely\", 0.25),\n",
    "    (\"possible\", 0.3),\n",
    "    (\"unlikely\", 0.1),\n",
    "    (\"unclassified\", 0.2),\n",
    "    (\"unclassifiable\", 0.1),\n",
    "]\n",
    "\n",
    "numerical_columns = []\n",
    "categorical_columns = [\n",
    "    \"gender\",\n",
    "    \"pregnancy_status\",\n",
    "    \"known_allergy\",\n",
    "    \"rechallenge\",\n",
    "    \"dechallenge\",\n",
    "    \"severity\",\n",
    "    \"is_serious\",\n",
    "    \"criteria_for_seriousness\",\n",
    "    \"action_taken\",\n",
    "    \"outcome\",\n",
    "]\n",
    "\n",
    "target_column = \"causality_assessment_level\"\n",
    "\n",
    "\n",
    "proportions = dict()\n",
    "dfs = dict()\n",
    "dicts = dict()\n",
    "\n",
    "for x, proportion in classes_and_proportions:\n",
    "    proportions[x] = int(proportion * num_rows)\n",
    "    dfs[x] = pd.DataFrame()\n",
    "    dicts[x] = dict()\n",
    "    for column in [*numerical_columns, *categorical_columns, target_column]:\n",
    "        dicts[x][column] = []\n"
   ]
  },
  {
   "cell_type": "markdown",
   "metadata": {},
   "source": [
    "# Fields\n"
   ]
  },
  {
   "cell_type": "markdown",
   "metadata": {},
   "source": [
    "## Categorical\n"
   ]
  },
  {
   "cell_type": "code",
   "execution_count": 209,
   "metadata": {},
   "outputs": [],
   "source": [
    "options = {\n",
    "    \"gender\": [\"male\", \"female\"],\n",
    "    \"pregnancy_status\": [\n",
    "        \"not pregnant\",\n",
    "        \"1st trimester\",\n",
    "        \"2nd trimester\",\n",
    "        \"3rd trimester\",\n",
    "    ],\n",
    "    \"known_allergy\": [\"yes\", \"no\"],\n",
    "    \"rechallenge\": [\"yes\", \"no\", \"unknown\", \"na\"],\n",
    "    \"dechallenge\": [\"yes\", \"no\", \"unknown\", \"na\"],\n",
    "    \"severity\": [\"mild\", \"moderate\", \"severe\", \"fatal\", \"unknown\"],\n",
    "    \"is_serious\": [\"yes\", \"no\"],\n",
    "    \"criteria_for_seriousness\": [\n",
    "        \"hospitalisation\",\n",
    "        \"disability\",\n",
    "        \"congenital anomaly\",\n",
    "        \"life-threatening\",\n",
    "        \"death\",\n",
    "    ],\n",
    "    \"action_taken\": [\n",
    "        \"drug withdrawn\",\n",
    "        \"dose reduced\",\n",
    "        \"dose increased\",\n",
    "        \"dose not changed\",\n",
    "        \"not applicable\",\n",
    "        \"unknown\",\n",
    "    ],\n",
    "    \"outcome\": [\n",
    "        \"recovered\",\n",
    "        \"recovered with sequelae\",\n",
    "        \"recovering\",\n",
    "        \"not recovered\",\n",
    "        \"death\",\n",
    "        \"unknown\",\n",
    "    ],\n",
    "}\n",
    "\n",
    "weights = {\n",
    "    \"gender\": {\n",
    "        \"certain\": [0.55, 0.45],\n",
    "        \"likely\": [0.6, 0.4],\n",
    "        \"possible\": [0.65, 0.35],\n",
    "        \"unlikely\": [0.5, 0.5],\n",
    "        \"unclassified\": [0.55, 0.45],\n",
    "        \"unclassifiable\": [0.5, 0.5],\n",
    "    },\n",
    "    \"pregnancy_status\": {\n",
    "        \"certain\": [1.0, 0.0, 0.0, 0.0],\n",
    "        \"likely\": [0.6, 0.15, 0.15, 0.1],\n",
    "        \"possible\": [0.4, 0.2, 0.2, 0.2],\n",
    "        \"unlikely\": [0.1, 0.3, 0.6, 0.1],\n",
    "        \"unclassified\": [0.2, 0.3, 0.4, 0.1],\n",
    "        \"unclassifiable\": [0.05, 0.4, 0.05, 0.4],\n",
    "    },\n",
    "    \"known_allergy\": {\n",
    "        \"certain\": [0.1, 0.9],\n",
    "        \"likely\": [0.1, 0.9],\n",
    "        \"possible\": [0.1, 0.9],\n",
    "        \"unlikely\": [0.1, 0.9],\n",
    "        \"unclassified\": [0.1, 0.9],\n",
    "        \"unclassifiable\": [0.1, 0.9],\n",
    "    },\n",
    "    \"rechallenge\": {\n",
    "        \"certain\": [0.8, 0.0, 0.1, 0.1],\n",
    "        \"likely\": [0.0, 0.8, 0.1, 0.1],\n",
    "        \"possible\": [0.0, 0.8, 0.1, 0.1],\n",
    "        \"unlikely\": [0.0, 0.7, 0.2, 0.1],\n",
    "        \"unclassified\": [0.0, 0.0, 0.5, 0.5],\n",
    "        \"unclassifiable\": [0.0, 0.0, 0.5, 0.5],\n",
    "    },\n",
    "    \"dechallenge\": {\n",
    "        \"certain\": [0.8, 0.0, 0.1, 0.1],\n",
    "        \"likely\": [0.8, 0.0, 0.1, 0.1],\n",
    "        \"possible\": [0.0, 0.8, 0.1, 0.1],\n",
    "        \"unlikely\": [0.0, 0.7, 0.2, 0.1],\n",
    "        \"unclassified\": [0.0, 0.0, 0.5, 0.5],\n",
    "        \"unclassifiable\": [0.0, 0.0, 0.5, 0.5],\n",
    "    },\n",
    "    \"severity\": {\n",
    "        \"certain\": [0.05, 0.1, 0.5, 0.3, 0.05],\n",
    "        \"likely\": [0.1, 0.3, 0.4, 0.15, 0.05],\n",
    "        \"possible\": [0.3, 0.45, 0.2, 0.04, 0.02],\n",
    "        \"unlikely\": [0.5, 0.4, 0.05, 0.01, 0.04],\n",
    "        \"unclassified\": [0.4, 0.35, 0.2, 0.02, 0.03],\n",
    "        \"unclassifiable\": [0.35, 0.3, 0.2, 0.1, 0.05],\n",
    "    },\n",
    "    \"is_serious\": {\n",
    "        \"certain\": [0.35, 0.65],\n",
    "        \"likely\": [0.35, 0.65],\n",
    "        \"possible\": [0.35, 0.65],\n",
    "        \"unlikely\": [0.35, 0.65],\n",
    "        \"unclassified\": [0.35, 0.65],\n",
    "        \"unclassifiable\": [0.35, 0.65],\n",
    "    },\n",
    "    \"criteria_for_seriousness\": {\n",
    "        \"certain\": [0.8, 0.1, 0.02, 0.15, 0.5],\n",
    "        \"likely\": [0.65, 0.15, 0.05, 0.2, 0.05],\n",
    "        \"possible\": [0.4, 0.2, 0.1, 0.05, 0.01],\n",
    "        \"unlikely\": [0.1, 0.1, 0.05, 0.02, 0.0],\n",
    "        \"unclassified\": [0.3, 0.15, 0.05, 0.05, 0.01],\n",
    "        \"unclassifiable\": [0.2, 0.1, 0.05, 0.05, 0.05],\n",
    "    },\n",
    "    \"action_taken\": {\n",
    "        \"certain\": [1.0, 0.0, 0.0, 0.0, 0.0, 0.0],\n",
    "        \"likely\": [0.8, 0.15, 0.02, 0.03, 0.0, 0.0],\n",
    "        \"possible\": [0.5, 0.3, 0.05, 0.15, 0.0, 0.0],\n",
    "        \"unlikely\": [0.2, 0.4, 0.1, 0.4, 0.1, 0.0],\n",
    "        \"unclassified\": [0.4, 0.35, 0.1, 0.25, 0.05, 0.05],\n",
    "        \"unclassifiable\": [0.3, 0.3, 0.1, 0.3, 0.0, 0.0],\n",
    "    },\n",
    "    \"outcome\": {\n",
    "        \"certain\": [0.7, 0.2, 0.05, 0.05, 0.1, 0.0],\n",
    "        \"likely\": [0.6, 0.25, 0.05, 0.05, 0.05, 0.0],\n",
    "        \"possible\": [0.5, 0.35, 0.1, 0.03, 0.01, 0.01],\n",
    "        \"unlikely\": [0.4, 0.1, 0.05, 0.03, 0.01, 0.01],\n",
    "        \"unclassified\": [0.5, 0.25, 0.1, 0.05, 0.01, 0.03],\n",
    "        \"unclassifiable\": [0.4, 0.2, 0.1, 0.2, 0.05, 0.05],\n",
    "    },\n",
    "}\n",
    "\n",
    "# # For every column, take the weights\n",
    "# for column, column_weights in weights.items():\n",
    "#     # For every class, take the row of weights\n",
    "#     for class_name, weight in column_weights.items():\n",
    "#         # Pregnancy Status\n",
    "#         if column == \"pregnancy_status\":\n",
    "#             # For every row on gender\n",
    "#             for gender in dicts[class_name][\"gender\"]:\n",
    "#                 if gender == \"female\":\n",
    "#                     dicts[class_name][\"pregnancy_status\"].append(\n",
    "#                         random.choices(\n",
    "#                             options[\"pregnancy_status\"],\n",
    "#                             weights=weight,\n",
    "#                             k=1,\n",
    "#                         )[0]\n",
    "#                     )\n",
    "#                 else:\n",
    "#                     dicts[class_name][\"pregnancy_status\"].append(\"not applicable\")\n",
    "\n",
    "#         else:\n",
    "#             dicts[class_name][column] = random.choices(\n",
    "#                 population=options[column],\n",
    "#                 weights=weight,\n",
    "#                 k=proportions[class_name],\n",
    "#             )\n",
    "\n",
    "# Generate 'gender' first\n",
    "for class_name, proportion in proportions.items():\n",
    "    dicts[class_name][\"gender\"] = random.choices(\n",
    "        options[\"gender\"], weights=weights[\"gender\"][class_name], k=proportion\n",
    "    )\n",
    "\n",
    "# Generate pregnancy_status based on gender\n",
    "for class_name, proportion in proportions.items():\n",
    "    genders = dicts[class_name][\"gender\"]\n",
    "    for gender in genders:\n",
    "        if gender == \"female\":\n",
    "            dicts[class_name][\"pregnancy_status\"].append(\n",
    "                random.choices(\n",
    "                    options[\"pregnancy_status\"],\n",
    "                    weights=weights[\"pregnancy_status\"][class_name],\n",
    "                    k=1,\n",
    "                )[0]\n",
    "            )\n",
    "        else:\n",
    "            dicts[class_name][\"pregnancy_status\"].append(\"not applicable\")\n",
    "\n",
    "# Now generate the other independent categorical columns\n",
    "for column in [\n",
    "    \"known_allergy\",\n",
    "    \"rechallenge\",\n",
    "    \"dechallenge\",\n",
    "    \"severity\",\n",
    "    \"is_serious\",\n",
    "    \"criteria_for_seriousness\",\n",
    "    \"action_taken\",\n",
    "    \"outcome\",\n",
    "]:\n",
    "    for class_name, proportion in proportions.items():\n",
    "        dicts[class_name][column] = random.choices(\n",
    "            options[column], weights=weights[column][class_name], k=proportion\n",
    "        )\n"
   ]
  },
  {
   "cell_type": "markdown",
   "metadata": {},
   "source": [
    "# Classes\n"
   ]
  },
  {
   "cell_type": "code",
   "execution_count": 210,
   "metadata": {},
   "outputs": [],
   "source": [
    "for class_name, proportion in proportions.items():\n",
    "    dicts[class_name][\"causality_assessment_level\"] = [class_name] * proportion"
   ]
  },
  {
   "cell_type": "markdown",
   "metadata": {},
   "source": [
    "# Merge dataframes into one\n"
   ]
  },
  {
   "cell_type": "code",
   "execution_count": 211,
   "metadata": {},
   "outputs": [],
   "source": [
    "dfs_list = []\n",
    "\n",
    "for x, _ in classes_and_proportions:\n",
    "    dfs[x] = pd.DataFrame(dicts[x])\n",
    "    dfs_list.append(dfs[x])\n",
    "    # print(x)\n",
    "    # print(\"=\" * 50)\n",
    "    # display(dfs[x])\n",
    "\n",
    "df = pd.concat(dfs_list)"
   ]
  },
  {
   "cell_type": "markdown",
   "metadata": {},
   "source": [
    "# Additional columns that run through the whole dataset\n"
   ]
  },
  {
   "cell_type": "markdown",
   "metadata": {},
   "source": [
    "## Ward/Clinic"
   ]
  },
  {
   "cell_type": "code",
   "execution_count": 212,
   "metadata": {},
   "outputs": [],
   "source": [
    "wards_and_clinics_tb = [\n",
    "    \"TB Clinic\",\n",
    "    \"TB Isolation Ward\",\n",
    "    \"Pulmonology Clinic\",\n",
    "    \"Chest Clinic\",\n",
    "    \"Respiratory Diseases Ward\",\n",
    "    \"Outpatient TB Department\",\n",
    "    \"Multidrug-Resistant TB (MDR-TB) Clinic\",\n",
    "    \"Directly Observed Treatment (DOT) Clinic\",\n",
    "    \"TB Screening Unit\",\n",
    "    \"TB Treatment Center\",\n",
    "    \"Infectious Diseases Ward\",\n",
    "]\n",
    "\n",
    "wards_or_clinics = [random.choice(wards_and_clinics_tb) for _ in range(num_rows)]\n",
    "df.insert(loc=0, column=\"ward_or_clinic\", value=wards_or_clinics)"
   ]
  },
  {
   "cell_type": "markdown",
   "metadata": {},
   "source": [
    "## Inpatient/Outpatient Number\n"
   ]
  },
  {
   "cell_type": "code",
   "execution_count": 213,
   "metadata": {},
   "outputs": [],
   "source": [
    "prefixes = [\"IP\", \"OP\"]\n",
    "in_op_numbers = []\n",
    "\n",
    "for _ in range(num_rows):  # change 10 to however many strings you want\n",
    "    prefix = random.choice(prefixes)\n",
    "    number = random.randint(100000, 999999)  # 6-digit random number\n",
    "    in_op_numbers.append(f\"{prefix}-{number}\")\n",
    "\n",
    "df.insert(loc=0, column=\"inpatient_or_outpatient_number\", value=in_op_numbers)"
   ]
  },
  {
   "cell_type": "markdown",
   "metadata": {},
   "source": [
    "## Address"
   ]
  },
  {
   "cell_type": "code",
   "execution_count": 214,
   "metadata": {},
   "outputs": [],
   "source": [
    "# Towns / Cities\n",
    "towns = [\n",
    "    \"Nairobi\",\n",
    "    \"Mombasa\",\n",
    "    \"Kisumu\",\n",
    "    \"Nakuru\",\n",
    "    \"Eldoret\",\n",
    "    \"Thika\",\n",
    "    \"Naivasha\",\n",
    "    \"Malindi\",\n",
    "    \"Kitale\",\n",
    "    \"Kericho\",\n",
    "    \"Garissa\",\n",
    "    \"Machakos\",\n",
    "    \"Nyeri\",\n",
    "    \"Embu\",\n",
    "    \"Meru\",\n",
    "    \"Kakamega\",\n",
    "    \"Lamu\",\n",
    "]\n",
    "\n",
    "# Common Estates / Areas\n",
    "areas = [\n",
    "    \"Pipeline\",\n",
    "    \"Kibera\",\n",
    "    \"Kayole\",\n",
    "    \"Kahawa\",\n",
    "    \"Ruiru\",\n",
    "    \"Utawala\",\n",
    "    \"Miritini\",\n",
    "    \"Kizingo\",\n",
    "    \"Nyali\",\n",
    "    \"Nyalenda\",\n",
    "    \"Milimani\",\n",
    "    \"Karatina\",\n",
    "    \"Muthaiga\",\n",
    "    \"Syokimau\",\n",
    "    \"Makupa\",\n",
    "    \"Likoni\",\n",
    "    \"Shauri Moyo\",\n",
    "    \"Kangemi\",\n",
    "    \"Donholm\",\n",
    "    \"Gikambura\",\n",
    "]\n",
    "\n",
    "\n",
    "def generate_address():\n",
    "    area = random.choice(areas)\n",
    "    town = random.choice(towns)\n",
    "    return f\"{area}, {town}\"\n",
    "\n",
    "\n",
    "# Example: Generate 10 random addresses\n",
    "addresses = [generate_address() for _ in range(num_rows)]\n",
    "\n",
    "df.insert(loc=0, column=\"patient_address\", value=addresses)"
   ]
  },
  {
   "cell_type": "markdown",
   "metadata": {},
   "source": [
    "## Date of Birth/Age"
   ]
  },
  {
   "cell_type": "code",
   "execution_count": 215,
   "metadata": {},
   "outputs": [],
   "source": [
    "age_df = pd.DataFrame(\n",
    "    {\"patient_date_of_birth\": [None] * num_rows, \"patient_age\": [None] * num_rows}\n",
    ")\n",
    "\n",
    "dates_of_birth = []\n",
    "ages = []\n",
    "\n",
    "\n",
    "# Function to generate a random age from normal distribution centered at 28\n",
    "def generate_age():\n",
    "    while True:\n",
    "        age = int(np.random.normal(25, 10))\n",
    "        if 0 <= age <= 70:\n",
    "            return age\n",
    "        else:\n",
    "            return 30\n",
    "\n",
    "\n",
    "today = datetime.datetime.today()\n",
    "\n",
    "for _ in range(num_rows):\n",
    "    age = generate_age()\n",
    "    if random.random() > 0.5:\n",
    "        dob = (today - datetime.timedelta(days=age * 365.25)).strftime(\"%Y-%m-%d\")\n",
    "        dates_of_birth.append(dob)\n",
    "        ages.append(None)\n",
    "    else:\n",
    "        dates_of_birth.append(None)\n",
    "        ages.append(int(age))\n",
    "\n",
    "\n",
    "df.insert(loc=0, column=\"patient_date_of_birth\", value=dates_of_birth)\n",
    "df.insert(loc=0, column=\"patient_age\", value=ages)"
   ]
  },
  {
   "cell_type": "markdown",
   "metadata": {},
   "source": [
    "# Weight and Height"
   ]
  },
  {
   "cell_type": "code",
   "execution_count": 216,
   "metadata": {},
   "outputs": [],
   "source": [
    "def guess_weight_height(row):\n",
    "    gender = row[\"gender\"]\n",
    "    age = row[\"patient_age\"]\n",
    "    dob = row[\"patient_date_of_birth\"]\n",
    "\n",
    "    if pd.isna(age):\n",
    "        if pd.notna(dob):\n",
    "            # If DOB is available, calculate age\n",
    "            dob = pd.to_datetime(dob)\n",
    "            age = (today - dob).days // 365\n",
    "        else:\n",
    "            # If both age and DOB are missing, guess an age\n",
    "            age = np.random.normal(30, 8)  # centered at 30 years\n",
    "\n",
    "    # Set default means\n",
    "    if age <= 5:\n",
    "        weight_mean = 15 if gender == \"male\" else 14\n",
    "        height_mean = 90 if gender == \"male\" else 88\n",
    "    elif age <= 12:\n",
    "        weight_mean = 30 if gender == \"male\" else 28\n",
    "        height_mean = 130 if gender == \"male\" else 125\n",
    "    elif age <= 18:\n",
    "        weight_mean = 55 if gender == \"male\" else 50\n",
    "        height_mean = 165 if gender == \"male\" else 160\n",
    "    elif age <= 40:\n",
    "        weight_mean = 70 if gender == \"male\" else 62\n",
    "        height_mean = 175 if gender == \"male\" else 165\n",
    "    else:\n",
    "        weight_mean = 68 if gender == \"male\" else 60\n",
    "        height_mean = 170 if gender == \"male\" else 160\n",
    "\n",
    "    # Add randomness (normal distribution around the mean)\n",
    "    weight = np.random.normal(loc=weight_mean, scale=5)\n",
    "    height = np.random.normal(loc=height_mean, scale=5)\n",
    "\n",
    "    # Clamp values to reasonable ranges\n",
    "    weight = max(3, min(weight, 150))  # weight in kg\n",
    "    height = max(45, min(height, 220))  # height in cm\n",
    "\n",
    "    return pd.Series([round(weight, 1), round(height, 1)])\n",
    "\n",
    "\n",
    "# Now apply the function\n",
    "df[[\"patient_weight_kg\", \"patient_height_cm\"]] = df.apply(guess_weight_height, axis=1)\n",
    "\n",
    "# Reorder columns\n",
    "new_order = [\"patient_weight_kg\", \"patient_height_cm\"] + [\n",
    "    col for col in df.columns if col not in [\"patient_weight_kg\", \"patient_height_cm\"]\n",
    "]\n",
    "\n",
    "df = df[new_order]"
   ]
  },
  {
   "cell_type": "markdown",
   "metadata": {},
   "source": [
    "## Patient Name\n"
   ]
  },
  {
   "cell_type": "code",
   "execution_count": 217,
   "metadata": {},
   "outputs": [],
   "source": [
    "faker_kenya = Faker(\"sw\")\n",
    "patient_names = [faker_kenya.name() for _ in range(num_rows)]\n",
    "\n",
    "df.insert(loc=0, column=\"patient_name\", value=patient_names)\n"
   ]
  },
  {
   "cell_type": "markdown",
   "metadata": {},
   "source": [
    "# Display dataframe\n"
   ]
  },
  {
   "cell_type": "code",
   "execution_count": 218,
   "metadata": {},
   "outputs": [
    {
     "data": {
      "text/html": [
       "<div>\n",
       "<style scoped>\n",
       "    .dataframe tbody tr th:only-of-type {\n",
       "        vertical-align: middle;\n",
       "    }\n",
       "\n",
       "    .dataframe tbody tr th {\n",
       "        vertical-align: top;\n",
       "    }\n",
       "\n",
       "    .dataframe thead th {\n",
       "        text-align: right;\n",
       "    }\n",
       "</style>\n",
       "<table border=\"1\" class=\"dataframe\">\n",
       "  <thead>\n",
       "    <tr style=\"text-align: right;\">\n",
       "      <th></th>\n",
       "      <th>patient_name</th>\n",
       "      <th>patient_weight_kg</th>\n",
       "      <th>patient_height_cm</th>\n",
       "      <th>patient_age</th>\n",
       "      <th>patient_date_of_birth</th>\n",
       "      <th>patient_address</th>\n",
       "      <th>inpatient_or_outpatient_number</th>\n",
       "      <th>ward_or_clinic</th>\n",
       "      <th>gender</th>\n",
       "      <th>pregnancy_status</th>\n",
       "      <th>known_allergy</th>\n",
       "      <th>rechallenge</th>\n",
       "      <th>dechallenge</th>\n",
       "      <th>severity</th>\n",
       "      <th>is_serious</th>\n",
       "      <th>criteria_for_seriousness</th>\n",
       "      <th>action_taken</th>\n",
       "      <th>outcome</th>\n",
       "      <th>causality_assessment_level</th>\n",
       "    </tr>\n",
       "  </thead>\n",
       "  <tbody>\n",
       "    <tr>\n",
       "      <th>0</th>\n",
       "      <td>Kiburi Waweru</td>\n",
       "      <td>73.5</td>\n",
       "      <td>181.5</td>\n",
       "      <td>29.0</td>\n",
       "      <td>None</td>\n",
       "      <td>Pipeline, Kakamega</td>\n",
       "      <td>OP-978412</td>\n",
       "      <td>TB Clinic</td>\n",
       "      <td>male</td>\n",
       "      <td>not applicable</td>\n",
       "      <td>no</td>\n",
       "      <td>unknown</td>\n",
       "      <td>na</td>\n",
       "      <td>moderate</td>\n",
       "      <td>yes</td>\n",
       "      <td>death</td>\n",
       "      <td>drug withdrawn</td>\n",
       "      <td>recovered with sequelae</td>\n",
       "      <td>certain</td>\n",
       "    </tr>\n",
       "    <tr>\n",
       "      <th>1</th>\n",
       "      <td>Marini Abdi</td>\n",
       "      <td>60.9</td>\n",
       "      <td>172.2</td>\n",
       "      <td>NaN</td>\n",
       "      <td>1988-04-26</td>\n",
       "      <td>Syokimau, Kitale</td>\n",
       "      <td>IP-708388</td>\n",
       "      <td>Directly Observed Treatment (DOT) Clinic</td>\n",
       "      <td>female</td>\n",
       "      <td>not pregnant</td>\n",
       "      <td>no</td>\n",
       "      <td>na</td>\n",
       "      <td>yes</td>\n",
       "      <td>fatal</td>\n",
       "      <td>no</td>\n",
       "      <td>disability</td>\n",
       "      <td>drug withdrawn</td>\n",
       "      <td>recovered with sequelae</td>\n",
       "      <td>certain</td>\n",
       "    </tr>\n",
       "    <tr>\n",
       "      <th>2</th>\n",
       "      <td>Tuere Yudas</td>\n",
       "      <td>46.9</td>\n",
       "      <td>156.4</td>\n",
       "      <td>NaN</td>\n",
       "      <td>2008-04-26</td>\n",
       "      <td>Pipeline, Eldoret</td>\n",
       "      <td>OP-573411</td>\n",
       "      <td>Infectious Diseases Ward</td>\n",
       "      <td>female</td>\n",
       "      <td>not pregnant</td>\n",
       "      <td>no</td>\n",
       "      <td>yes</td>\n",
       "      <td>yes</td>\n",
       "      <td>moderate</td>\n",
       "      <td>no</td>\n",
       "      <td>disability</td>\n",
       "      <td>drug withdrawn</td>\n",
       "      <td>recovered</td>\n",
       "      <td>certain</td>\n",
       "    </tr>\n",
       "    <tr>\n",
       "      <th>3</th>\n",
       "      <td>Ituri Sinema Hassan</td>\n",
       "      <td>63.0</td>\n",
       "      <td>166.4</td>\n",
       "      <td>22.0</td>\n",
       "      <td>None</td>\n",
       "      <td>Shauri Moyo, Nairobi</td>\n",
       "      <td>IP-987671</td>\n",
       "      <td>Pulmonology Clinic</td>\n",
       "      <td>female</td>\n",
       "      <td>not pregnant</td>\n",
       "      <td>no</td>\n",
       "      <td>yes</td>\n",
       "      <td>yes</td>\n",
       "      <td>fatal</td>\n",
       "      <td>no</td>\n",
       "      <td>hospitalisation</td>\n",
       "      <td>drug withdrawn</td>\n",
       "      <td>recovered</td>\n",
       "      <td>certain</td>\n",
       "    </tr>\n",
       "    <tr>\n",
       "      <th>4</th>\n",
       "      <td>Dunia Kibet</td>\n",
       "      <td>58.0</td>\n",
       "      <td>160.8</td>\n",
       "      <td>NaN</td>\n",
       "      <td>2007-04-27</td>\n",
       "      <td>Karatina, Garissa</td>\n",
       "      <td>OP-562023</td>\n",
       "      <td>TB Clinic</td>\n",
       "      <td>male</td>\n",
       "      <td>not applicable</td>\n",
       "      <td>no</td>\n",
       "      <td>na</td>\n",
       "      <td>yes</td>\n",
       "      <td>severe</td>\n",
       "      <td>no</td>\n",
       "      <td>disability</td>\n",
       "      <td>drug withdrawn</td>\n",
       "      <td>recovered with sequelae</td>\n",
       "      <td>certain</td>\n",
       "    </tr>\n",
       "  </tbody>\n",
       "</table>\n",
       "</div>"
      ],
      "text/plain": [
       "          patient_name  patient_weight_kg  patient_height_cm  patient_age  \\\n",
       "0        Kiburi Waweru               73.5              181.5         29.0   \n",
       "1          Marini Abdi               60.9              172.2          NaN   \n",
       "2          Tuere Yudas               46.9              156.4          NaN   \n",
       "3  Ituri Sinema Hassan               63.0              166.4         22.0   \n",
       "4          Dunia Kibet               58.0              160.8          NaN   \n",
       "\n",
       "  patient_date_of_birth       patient_address inpatient_or_outpatient_number  \\\n",
       "0                  None    Pipeline, Kakamega                      OP-978412   \n",
       "1            1988-04-26      Syokimau, Kitale                      IP-708388   \n",
       "2            2008-04-26     Pipeline, Eldoret                      OP-573411   \n",
       "3                  None  Shauri Moyo, Nairobi                      IP-987671   \n",
       "4            2007-04-27     Karatina, Garissa                      OP-562023   \n",
       "\n",
       "                             ward_or_clinic  gender pregnancy_status  \\\n",
       "0                                 TB Clinic    male   not applicable   \n",
       "1  Directly Observed Treatment (DOT) Clinic  female     not pregnant   \n",
       "2                  Infectious Diseases Ward  female     not pregnant   \n",
       "3                        Pulmonology Clinic  female     not pregnant   \n",
       "4                                 TB Clinic    male   not applicable   \n",
       "\n",
       "  known_allergy rechallenge dechallenge  severity is_serious  \\\n",
       "0            no     unknown          na  moderate        yes   \n",
       "1            no          na         yes     fatal         no   \n",
       "2            no         yes         yes  moderate         no   \n",
       "3            no         yes         yes     fatal         no   \n",
       "4            no          na         yes    severe         no   \n",
       "\n",
       "  criteria_for_seriousness    action_taken                  outcome  \\\n",
       "0                    death  drug withdrawn  recovered with sequelae   \n",
       "1               disability  drug withdrawn  recovered with sequelae   \n",
       "2               disability  drug withdrawn                recovered   \n",
       "3          hospitalisation  drug withdrawn                recovered   \n",
       "4               disability  drug withdrawn  recovered with sequelae   \n",
       "\n",
       "  causality_assessment_level  \n",
       "0                    certain  \n",
       "1                    certain  \n",
       "2                    certain  \n",
       "3                    certain  \n",
       "4                    certain  "
      ]
     },
     "execution_count": 218,
     "metadata": {},
     "output_type": "execute_result"
    }
   ],
   "source": [
    "df.head()"
   ]
  },
  {
   "cell_type": "markdown",
   "metadata": {},
   "source": [
    "# Confirming categorical column proportions\n"
   ]
  },
  {
   "cell_type": "code",
   "execution_count": 219,
   "metadata": {},
   "outputs": [
    {
     "data": {
      "text/plain": [
       "gender\n",
       "male      0.602\n",
       "female    0.398\n",
       "Name: proportion, dtype: float64"
      ]
     },
     "metadata": {},
     "output_type": "display_data"
    },
    {
     "name": "stdout",
     "output_type": "stream",
     "text": [
      "--------------------------------------------------\n"
     ]
    },
    {
     "data": {
      "text/plain": [
       "pregnancy_status\n",
       "not applicable    0.602\n",
       "not pregnant      0.140\n",
       "2nd trimester     0.110\n",
       "1st trimester     0.090\n",
       "3rd trimester     0.058\n",
       "Name: proportion, dtype: float64"
      ]
     },
     "metadata": {},
     "output_type": "display_data"
    },
    {
     "name": "stdout",
     "output_type": "stream",
     "text": [
      "--------------------------------------------------\n"
     ]
    },
    {
     "data": {
      "text/plain": [
       "known_allergy\n",
       "no     0.9\n",
       "yes    0.1\n",
       "Name: proportion, dtype: float64"
      ]
     },
     "metadata": {},
     "output_type": "display_data"
    },
    {
     "name": "stdout",
     "output_type": "stream",
     "text": [
      "--------------------------------------------------\n"
     ]
    },
    {
     "data": {
      "text/plain": [
       "rechallenge\n",
       "no         0.516\n",
       "na         0.225\n",
       "unknown    0.220\n",
       "yes        0.039\n",
       "Name: proportion, dtype: float64"
      ]
     },
     "metadata": {},
     "output_type": "display_data"
    },
    {
     "name": "stdout",
     "output_type": "stream",
     "text": [
      "--------------------------------------------------\n"
     ]
    },
    {
     "data": {
      "text/plain": [
       "dechallenge\n",
       "no         0.318\n",
       "yes        0.234\n",
       "na         0.229\n",
       "unknown    0.219\n",
       "Name: proportion, dtype: float64"
      ]
     },
     "metadata": {},
     "output_type": "display_data"
    },
    {
     "name": "stdout",
     "output_type": "stream",
     "text": [
      "--------------------------------------------------\n"
     ]
    },
    {
     "data": {
      "text/plain": [
       "severity\n",
       "moderate    0.370\n",
       "mild        0.271\n",
       "severe      0.219\n",
       "fatal       0.098\n",
       "unknown     0.042\n",
       "Name: proportion, dtype: float64"
      ]
     },
     "metadata": {},
     "output_type": "display_data"
    },
    {
     "name": "stdout",
     "output_type": "stream",
     "text": [
      "--------------------------------------------------\n"
     ]
    },
    {
     "data": {
      "text/plain": [
       "is_serious\n",
       "no     0.66\n",
       "yes    0.34\n",
       "Name: proportion, dtype: float64"
      ]
     },
     "metadata": {},
     "output_type": "display_data"
    },
    {
     "name": "stdout",
     "output_type": "stream",
     "text": [
      "--------------------------------------------------\n"
     ]
    },
    {
     "data": {
      "text/plain": [
       "criteria_for_seriousness\n",
       "hospitalisation       0.494\n",
       "disability            0.246\n",
       "life-threatening      0.108\n",
       "congenital anomaly    0.106\n",
       "death                 0.046\n",
       "Name: proportion, dtype: float64"
      ]
     },
     "metadata": {},
     "output_type": "display_data"
    },
    {
     "name": "stdout",
     "output_type": "stream",
     "text": [
      "--------------------------------------------------\n"
     ]
    },
    {
     "data": {
      "text/plain": [
       "action_taken\n",
       "drug withdrawn      0.495\n",
       "dose reduced        0.260\n",
       "dose not changed    0.162\n",
       "dose increased      0.056\n",
       "not applicable      0.021\n",
       "unknown             0.006\n",
       "Name: proportion, dtype: float64"
      ]
     },
     "metadata": {},
     "output_type": "display_data"
    },
    {
     "name": "stdout",
     "output_type": "stream",
     "text": [
      "--------------------------------------------------\n"
     ]
    },
    {
     "data": {
      "text/plain": [
       "outcome\n",
       "recovered                  0.551\n",
       "recovered with sequelae    0.248\n",
       "recovering                 0.096\n",
       "not recovered              0.069\n",
       "death                      0.023\n",
       "unknown                    0.013\n",
       "Name: proportion, dtype: float64"
      ]
     },
     "metadata": {},
     "output_type": "display_data"
    },
    {
     "name": "stdout",
     "output_type": "stream",
     "text": [
      "--------------------------------------------------\n"
     ]
    }
   ],
   "source": [
    "for column in categorical_columns:\n",
    "    display(df[column].value_counts(normalize=True).round(3))\n",
    "    print(\"-\" * 50)"
   ]
  },
  {
   "cell_type": "markdown",
   "metadata": {},
   "source": [
    "# Shuffle dataframe in preparation for prediction\n"
   ]
  },
  {
   "cell_type": "code",
   "execution_count": 220,
   "metadata": {},
   "outputs": [],
   "source": [
    "df = shuffle(df)"
   ]
  },
  {
   "cell_type": "markdown",
   "metadata": {},
   "source": [
    "# Export dataset to server and ml model\n"
   ]
  },
  {
   "cell_type": "code",
   "execution_count": 221,
   "metadata": {},
   "outputs": [],
   "source": [
    "df.to_csv(\"../server/data.csv\", index=False)\n",
    "df.to_csv(\"data.csv\", index=False)"
   ]
  }
 ],
 "metadata": {
  "kernelspec": {
   "display_name": "general",
   "language": "python",
   "name": "python3"
  },
  "language_info": {
   "codemirror_mode": {
    "name": "ipython",
    "version": 3
   },
   "file_extension": ".py",
   "mimetype": "text/x-python",
   "name": "python",
   "nbconvert_exporter": "python",
   "pygments_lexer": "ipython3",
   "version": "3.10.14"
  }
 },
 "nbformat": 4,
 "nbformat_minor": 2
}
