{
 "cells": [
  {
   "cell_type": "code",
   "execution_count": 11,
   "metadata": {},
   "outputs": [],
   "source": [
    "import random\n",
    "import uuid\n",
    "\n",
    "import pandas as pd\n",
    "from sklearn.utils import shuffle"
   ]
  },
  {
   "cell_type": "code",
   "execution_count": 12,
   "metadata": {},
   "outputs": [],
   "source": [
    "# Proportions\n",
    "num_rows = 1000  # Total dataset size\n",
    "\n",
    "classes_and_proportions = [\n",
    "    (\"certain\", 0.05),\n",
    "    (\"likely\", 0.25),\n",
    "    (\"possible\", 0.3),\n",
    "    (\"unlikely\", 0.1),\n",
    "    (\"unclassified\", 0.2),\n",
    "    (\"unclassifiable\", 0.1),\n",
    "]\n",
    "\n",
    "numerical_columns = []\n",
    "categorical_columns = [\n",
    "    \"gender\",\n",
    "    \"pregnancy_status\",\n",
    "    \"known_allergy\",\n",
    "    \"rechallenge\",\n",
    "    \"dechallenge\",\n",
    "    \"severity\",\n",
    "    \"is_serious\",\n",
    "    \"criteria_for_seriousness\",\n",
    "    \"action_taken\",\n",
    "    \"outcome\"\n",
    "]\n",
    "\n",
    "target_column = \"class\"\n",
    "\n",
    "\n",
    "proportions = dict()\n",
    "dfs = dict()\n",
    "dicts = dict()\n",
    "\n",
    "for x, proportion in classes_and_proportions:\n",
    "    proportions[x] = int(proportion * num_rows)\n",
    "    dfs[x] = pd.DataFrame()\n",
    "    dicts[x] = dict()\n",
    "    for column in [*numerical_columns, *categorical_columns, target_column]:\n",
    "        dicts[x][column] = []\n"
   ]
  },
  {
   "cell_type": "markdown",
   "metadata": {},
   "source": [
    "# Fields"
   ]
  },
  {
   "cell_type": "markdown",
   "metadata": {},
   "source": [
    "## Categorical"
   ]
  },
  {
   "cell_type": "code",
   "execution_count": 13,
   "metadata": {},
   "outputs": [],
   "source": [
    "options = {\n",
    "    \"gender\": [\"male\", \"female\"],\n",
    "    \"pregnancy_status\": [\n",
    "        \"not pregnant\",\n",
    "        \"1st trimester\",\n",
    "        \"2nd trimester\",\n",
    "        \"3rd trimester\",\n",
    "    ],\n",
    "    \"known_allergy\": [\"yes\", \"no\"],\n",
    "    \"rechallenge\": [\"yes\", \"no\", \"unknown\", \"na\"],\n",
    "    \"dechallenge\": [\"yes\", \"no\", \"unknown\", \"na\"],\n",
    "    \"severity\": [\"mild\", \"moderate\", \"severe\", \"fatal\", \"unknown\"],\n",
    "    \"is_serious\": [\"yes\", \"no\"],\n",
    "    \"criteria_for_seriousness\": [\n",
    "        \"hospitalisation\",\n",
    "        \"disability\",\n",
    "        \"congenital anomaly\",\n",
    "        \"life-threatening\",\n",
    "        \"death\",\n",
    "    ],\n",
    "    \"action_taken\": [\n",
    "        \"drug withdrawn\",\n",
    "        \"dose reduced\",\n",
    "        \"dose increased\",\n",
    "        \"dose not changed\",\n",
    "        \"not applicable\",\n",
    "        \"unknown\",\n",
    "    ],\n",
    "    \"outcome\": [\n",
    "        \"recovered\",\n",
    "        \"recovered with sequelae\",\n",
    "        \"recovering\",\n",
    "        \"not recovered\",\n",
    "        \"death\",\n",
    "        \"unknown\",\n",
    "    ],\n",
    "}\n",
    "\n",
    "weights = {\n",
    "    \"gender\": {\n",
    "        \"certain\": [0.55, 0.45],\n",
    "        \"likely\": [0.6, 0.4],\n",
    "        \"possible\": [0.65, 0.35],\n",
    "        \"unlikely\": [0.5, 0.5],\n",
    "        \"unclassified\": [0.55, 0.45],\n",
    "        \"unclassifiable\": [0.5, 0.5],\n",
    "    },\n",
    "    \"pregnancy_status\": {\n",
    "        \"certain\": [1.0, 0.0, 0.0, 0.0],\n",
    "        \"likely\": [0.6, 0.15, 0.15, 0.1],\n",
    "        \"possible\": [0.4, 0.2, 0.2, 0.2],\n",
    "        \"unlikely\": [0.1, 0.3, 0.6, 0.1],\n",
    "        \"unclassified\": [0.2, 0.3, 0.4, 0.1],\n",
    "        \"unclassifiable\": [0.05, 0.4, 0.05, 0.4],\n",
    "    },\n",
    "    \"known_allergy\": {\n",
    "        \"certain\": [0.1, 0.9],\n",
    "        \"likely\": [0.1, 0.9],\n",
    "        \"possible\": [0.1, 0.9],\n",
    "        \"unlikely\": [0.1, 0.9],\n",
    "        \"unclassified\": [0.1, 0.9],\n",
    "        \"unclassifiable\": [0.1, 0.9],\n",
    "    },\n",
    "    \"rechallenge\": {\n",
    "        \"certain\": [0.8, 0.0, 0.1, 0.1],\n",
    "        \"likely\": [0.0, 0.8, 0.1, 0.1],\n",
    "        \"possible\": [0.0, 0.8, 0.1, 0.1],\n",
    "        \"unlikely\": [0.0, 0.7, 0.2, 0.1],\n",
    "        \"unclassified\": [0.0, 0.0, 0.5, 0.5],\n",
    "        \"unclassifiable\": [0.0, 0.0, 0.5, 0.5],\n",
    "    },\n",
    "    \"dechallenge\": {\n",
    "        \"certain\": [0.8, 0.0, 0.1, 0.1],\n",
    "        \"likely\": [0.8, 0.0, 0.1, 0.1],\n",
    "        \"possible\": [0.0, 0.8, 0.1, 0.1],\n",
    "        \"unlikely\": [0.0, 0.7, 0.2, 0.1],\n",
    "        \"unclassified\": [0.0, 0.0, 0.5, 0.5],\n",
    "        \"unclassifiable\": [0.0, 0.0, 0.5, 0.5],\n",
    "    },\n",
    "    \"severity\": {\n",
    "        \"certain\": [0.05, 0.1, 0.5, 0.3, 0.05],\n",
    "        \"likely\": [0.1, 0.3, 0.4, 0.15, 0.05],\n",
    "        \"possible\": [0.3, 0.45, 0.2, 0.04, 0.02],\n",
    "        \"unlikely\": [0.5, 0.4, 0.05, 0.01, 0.04],\n",
    "        \"unclassified\": [0.4, 0.35, 0.2, 0.02, 0.03],\n",
    "        \"unclassifiable\": [0.35, 0.3, 0.2, 0.1, 0.05],\n",
    "    },\n",
    "    \"is_serious\": {\n",
    "        \"certain\": [0.35, 0.65],\n",
    "        \"likely\": [0.35, 0.65],\n",
    "        \"possible\": [0.35, 0.65],\n",
    "        \"unlikely\": [0.35, 0.65],\n",
    "        \"unclassified\": [0.35, 0.65],\n",
    "        \"unclassifiable\": [0.35, 0.65],\n",
    "    },\n",
    "    \"criteria_for_seriousness\": {\n",
    "        \"certain\": [0.8, 0.1, 0.02, 0.15, 0.5],\n",
    "        \"likely\": [0.65, 0.15, 0.05, 0.2, 0.05],\n",
    "        \"possible\": [0.4, 0.2, 0.1, 0.05, 0.01],\n",
    "        \"unlikely\": [0.1, 0.1, 0.05, 0.02, 0.0],\n",
    "        \"unclassified\": [0.3, 0.15, 0.05, 0.05, 0.01],\n",
    "        \"unclassifiable\": [0.2, 0.1, 0.05, 0.05, 0.05],\n",
    "    },\n",
    "    \"action_taken\": {\n",
    "        \"certain\": [1.0, 0.0, 0.0, 0.0, 0.0, 0.0],\n",
    "        \"likely\": [0.8, 0.15, 0.02, 0.03, 0.0, 0.0],\n",
    "        \"possible\": [0.5, 0.3, 0.05, 0.15, 0.0, 0.0],\n",
    "        \"unlikely\": [0.2, 0.4, 0.1, 0.4, 0.1, 0.0],\n",
    "        \"unclassified\": [0.4, 0.35, 0.1, 0.25, 0.05, 0.05],\n",
    "        \"unclassifiable\": [0.3, 0.3, 0.1, 0.3, 0.0, 0.0],\n",
    "    },\n",
    "    \"outcome\": {\n",
    "        \"certain\": [0.7, 0.2, 0.05, 0.05, 0.1, 0.0],\n",
    "        \"likely\": [0.6, 0.25, 0.05, 0.05, 0.05, 0.0],\n",
    "        \"possible\": [0.5, 0.35, 0.1, 0.03, 0.01, 0.01],\n",
    "        \"unlikely\": [0.4, 0.1, 0.05, 0.03, 0.01, 0.01],\n",
    "        \"unclassified\": [0.5, 0.25, 0.1, 0.05, 0.01, 0.03],\n",
    "        \"unclassifiable\": [0.4, 0.2, 0.1, 0.2, 0.05, 0.05],\n",
    "    },\n",
    "}\n",
    "\n",
    "# For every column, take the weights\n",
    "for column, column_weights in weights.items():\n",
    "    # For every class, take the row of weights\n",
    "    for class_name, weight in column_weights.items():\n",
    "        # Pregnancy Status \n",
    "        if column == \"pregnancy_status\":\n",
    "            # For every row on gender\n",
    "            for gender in dicts[class_name][\"gender\"]:\n",
    "                if gender == \"female\":\n",
    "                    dicts[class_name][\"pregnancy_status\"].append(\n",
    "                        random.choices(\n",
    "                            options[\"pregnancy_status\"],\n",
    "                            weights=weight,\n",
    "                            k=1,\n",
    "                        )[0]\n",
    "                    )\n",
    "                else:\n",
    "                    dicts[class_name][\"pregnancy_status\"].append(\"not applicable\")\n",
    "        \n",
    "        else:\n",
    "            dicts[class_name][column] = random.choices(\n",
    "                population=options[column],\n",
    "                weights=weight,\n",
    "                k=proportions[class_name],\n",
    "            )\n"
   ]
  },
  {
   "cell_type": "markdown",
   "metadata": {},
   "source": [
    "# Classes"
   ]
  },
  {
   "cell_type": "code",
   "execution_count": 14,
   "metadata": {},
   "outputs": [],
   "source": [
    "for x, proportion in classes_and_proportions:\n",
    "    dicts[x][\"class\"] = [x] * proportions[x]"
   ]
  },
  {
   "cell_type": "markdown",
   "metadata": {},
   "source": [
    "# Merge dataframes into one"
   ]
  },
  {
   "cell_type": "code",
   "execution_count": 15,
   "metadata": {},
   "outputs": [],
   "source": [
    "dfs_list = []\n",
    "\n",
    "\n",
    "for x, _ in classes_and_proportions:\n",
    "    dfs[x] = pd.DataFrame(dicts[x])\n",
    "    dfs_list.append(dfs[x])\n",
    "    # print(x)\n",
    "    # print(\"=\" * 50)\n",
    "    # display(dfs[x])\n",
    "\n",
    "df = pd.concat(dfs_list)"
   ]
  },
  {
   "cell_type": "code",
   "execution_count": 16,
   "metadata": {},
   "outputs": [],
   "source": [
    "# Create list of uuids\n",
    "uuids = [uuid.uuid4() for _ in range(num_rows)]\n",
    "\n",
    "df.insert(loc=0, column=\"patient_id\", value=uuids)"
   ]
  },
  {
   "cell_type": "code",
   "execution_count": 17,
   "metadata": {},
   "outputs": [
    {
     "data": {
      "text/html": [
       "<div>\n",
       "<style scoped>\n",
       "    .dataframe tbody tr th:only-of-type {\n",
       "        vertical-align: middle;\n",
       "    }\n",
       "\n",
       "    .dataframe tbody tr th {\n",
       "        vertical-align: top;\n",
       "    }\n",
       "\n",
       "    .dataframe thead th {\n",
       "        text-align: right;\n",
       "    }\n",
       "</style>\n",
       "<table border=\"1\" class=\"dataframe\">\n",
       "  <thead>\n",
       "    <tr style=\"text-align: right;\">\n",
       "      <th></th>\n",
       "      <th>patient_id</th>\n",
       "      <th>gender</th>\n",
       "      <th>pregnancy_status</th>\n",
       "      <th>known_allergy</th>\n",
       "      <th>rechallenge</th>\n",
       "      <th>dechallenge</th>\n",
       "      <th>severity</th>\n",
       "      <th>is_serious</th>\n",
       "      <th>criteria_for_seriousness</th>\n",
       "      <th>action_taken</th>\n",
       "      <th>outcome</th>\n",
       "      <th>class</th>\n",
       "    </tr>\n",
       "  </thead>\n",
       "  <tbody>\n",
       "    <tr>\n",
       "      <th>0</th>\n",
       "      <td>5d78be1e-43e2-4b40-baf2-58c470a223c8</td>\n",
       "      <td>male</td>\n",
       "      <td>not applicable</td>\n",
       "      <td>no</td>\n",
       "      <td>yes</td>\n",
       "      <td>yes</td>\n",
       "      <td>severe</td>\n",
       "      <td>no</td>\n",
       "      <td>hospitalisation</td>\n",
       "      <td>drug withdrawn</td>\n",
       "      <td>recovered with sequelae</td>\n",
       "      <td>certain</td>\n",
       "    </tr>\n",
       "    <tr>\n",
       "      <th>1</th>\n",
       "      <td>d3a7b53e-8659-4566-a4ec-adea7592c769</td>\n",
       "      <td>male</td>\n",
       "      <td>not applicable</td>\n",
       "      <td>no</td>\n",
       "      <td>yes</td>\n",
       "      <td>yes</td>\n",
       "      <td>severe</td>\n",
       "      <td>no</td>\n",
       "      <td>hospitalisation</td>\n",
       "      <td>drug withdrawn</td>\n",
       "      <td>recovered</td>\n",
       "      <td>certain</td>\n",
       "    </tr>\n",
       "    <tr>\n",
       "      <th>2</th>\n",
       "      <td>42d5cb50-adf7-4aa9-a425-56d77e992957</td>\n",
       "      <td>male</td>\n",
       "      <td>not applicable</td>\n",
       "      <td>no</td>\n",
       "      <td>yes</td>\n",
       "      <td>yes</td>\n",
       "      <td>moderate</td>\n",
       "      <td>no</td>\n",
       "      <td>hospitalisation</td>\n",
       "      <td>drug withdrawn</td>\n",
       "      <td>recovered</td>\n",
       "      <td>certain</td>\n",
       "    </tr>\n",
       "    <tr>\n",
       "      <th>3</th>\n",
       "      <td>fb2fc92f-a885-4ebb-bfc2-bf35b50fc7a6</td>\n",
       "      <td>male</td>\n",
       "      <td>not applicable</td>\n",
       "      <td>no</td>\n",
       "      <td>unknown</td>\n",
       "      <td>yes</td>\n",
       "      <td>mild</td>\n",
       "      <td>no</td>\n",
       "      <td>death</td>\n",
       "      <td>drug withdrawn</td>\n",
       "      <td>not recovered</td>\n",
       "      <td>certain</td>\n",
       "    </tr>\n",
       "    <tr>\n",
       "      <th>4</th>\n",
       "      <td>5cfc3bea-be0b-49b5-992c-e6ef8496984c</td>\n",
       "      <td>female</td>\n",
       "      <td>not pregnant</td>\n",
       "      <td>yes</td>\n",
       "      <td>na</td>\n",
       "      <td>unknown</td>\n",
       "      <td>fatal</td>\n",
       "      <td>no</td>\n",
       "      <td>hospitalisation</td>\n",
       "      <td>drug withdrawn</td>\n",
       "      <td>recovered</td>\n",
       "      <td>certain</td>\n",
       "    </tr>\n",
       "  </tbody>\n",
       "</table>\n",
       "</div>"
      ],
      "text/plain": [
       "                             patient_id  gender pregnancy_status  \\\n",
       "0  5d78be1e-43e2-4b40-baf2-58c470a223c8    male   not applicable   \n",
       "1  d3a7b53e-8659-4566-a4ec-adea7592c769    male   not applicable   \n",
       "2  42d5cb50-adf7-4aa9-a425-56d77e992957    male   not applicable   \n",
       "3  fb2fc92f-a885-4ebb-bfc2-bf35b50fc7a6    male   not applicable   \n",
       "4  5cfc3bea-be0b-49b5-992c-e6ef8496984c  female     not pregnant   \n",
       "\n",
       "  known_allergy rechallenge dechallenge  severity is_serious  \\\n",
       "0            no         yes         yes    severe         no   \n",
       "1            no         yes         yes    severe         no   \n",
       "2            no         yes         yes  moderate         no   \n",
       "3            no     unknown         yes      mild         no   \n",
       "4           yes          na     unknown     fatal         no   \n",
       "\n",
       "  criteria_for_seriousness    action_taken                  outcome    class  \n",
       "0          hospitalisation  drug withdrawn  recovered with sequelae  certain  \n",
       "1          hospitalisation  drug withdrawn                recovered  certain  \n",
       "2          hospitalisation  drug withdrawn                recovered  certain  \n",
       "3                    death  drug withdrawn            not recovered  certain  \n",
       "4          hospitalisation  drug withdrawn                recovered  certain  "
      ]
     },
     "execution_count": 17,
     "metadata": {},
     "output_type": "execute_result"
    }
   ],
   "source": [
    "df.head()"
   ]
  },
  {
   "cell_type": "code",
   "execution_count": 18,
   "metadata": {},
   "outputs": [],
   "source": [
    "df = shuffle(df)"
   ]
  },
  {
   "cell_type": "markdown",
   "metadata": {},
   "source": [
    "# Confirming categorical column proportions"
   ]
  },
  {
   "cell_type": "code",
   "execution_count": 19,
   "metadata": {},
   "outputs": [
    {
     "data": {
      "text/plain": [
       "gender\n",
       "male      0.574\n",
       "female    0.426\n",
       "Name: proportion, dtype: float64"
      ]
     },
     "metadata": {},
     "output_type": "display_data"
    },
    {
     "name": "stdout",
     "output_type": "stream",
     "text": [
      "--------------------------------------------------\n"
     ]
    },
    {
     "data": {
      "text/plain": [
       "pregnancy_status\n",
       "not applicable    0.574\n",
       "not pregnant      0.153\n",
       "1st trimester     0.115\n",
       "2nd trimester     0.085\n",
       "3rd trimester     0.073\n",
       "Name: proportion, dtype: float64"
      ]
     },
     "metadata": {},
     "output_type": "display_data"
    },
    {
     "name": "stdout",
     "output_type": "stream",
     "text": [
      "--------------------------------------------------\n"
     ]
    },
    {
     "data": {
      "text/plain": [
       "known_allergy\n",
       "no     0.891\n",
       "yes    0.109\n",
       "Name: proportion, dtype: float64"
      ]
     },
     "metadata": {},
     "output_type": "display_data"
    },
    {
     "name": "stdout",
     "output_type": "stream",
     "text": [
      "--------------------------------------------------\n"
     ]
    },
    {
     "data": {
      "text/plain": [
       "rechallenge\n",
       "no         0.519\n",
       "na         0.221\n",
       "unknown    0.220\n",
       "yes        0.040\n",
       "Name: proportion, dtype: float64"
      ]
     },
     "metadata": {},
     "output_type": "display_data"
    },
    {
     "name": "stdout",
     "output_type": "stream",
     "text": [
      "--------------------------------------------------\n"
     ]
    },
    {
     "data": {
      "text/plain": [
       "dechallenge\n",
       "no         0.332\n",
       "yes        0.254\n",
       "na         0.208\n",
       "unknown    0.206\n",
       "Name: proportion, dtype: float64"
      ]
     },
     "metadata": {},
     "output_type": "display_data"
    },
    {
     "name": "stdout",
     "output_type": "stream",
     "text": [
      "--------------------------------------------------\n"
     ]
    },
    {
     "data": {
      "text/plain": [
       "severity\n",
       "moderate    0.367\n",
       "mild        0.284\n",
       "severe      0.235\n",
       "fatal       0.087\n",
       "unknown     0.027\n",
       "Name: proportion, dtype: float64"
      ]
     },
     "metadata": {},
     "output_type": "display_data"
    },
    {
     "name": "stdout",
     "output_type": "stream",
     "text": [
      "--------------------------------------------------\n"
     ]
    },
    {
     "data": {
      "text/plain": [
       "is_serious\n",
       "no     0.692\n",
       "yes    0.308\n",
       "Name: proportion, dtype: float64"
      ]
     },
     "metadata": {},
     "output_type": "display_data"
    },
    {
     "name": "stdout",
     "output_type": "stream",
     "text": [
      "--------------------------------------------------\n"
     ]
    },
    {
     "data": {
      "text/plain": [
       "criteria_for_seriousness\n",
       "hospitalisation       0.520\n",
       "disability            0.232\n",
       "life-threatening      0.109\n",
       "congenital anomaly    0.088\n",
       "death                 0.051\n",
       "Name: proportion, dtype: float64"
      ]
     },
     "metadata": {},
     "output_type": "display_data"
    },
    {
     "name": "stdout",
     "output_type": "stream",
     "text": [
      "--------------------------------------------------\n"
     ]
    },
    {
     "data": {
      "text/plain": [
       "action_taken\n",
       "drug withdrawn      0.491\n",
       "dose reduced        0.263\n",
       "dose not changed    0.171\n",
       "dose increased      0.055\n",
       "not applicable      0.017\n",
       "unknown             0.003\n",
       "Name: proportion, dtype: float64"
      ]
     },
     "metadata": {},
     "output_type": "display_data"
    },
    {
     "name": "stdout",
     "output_type": "stream",
     "text": [
      "--------------------------------------------------\n"
     ]
    },
    {
     "data": {
      "text/plain": [
       "outcome\n",
       "recovered                  0.532\n",
       "recovered with sequelae    0.279\n",
       "recovering                 0.083\n",
       "not recovered              0.056\n",
       "death                      0.034\n",
       "unknown                    0.016\n",
       "Name: proportion, dtype: float64"
      ]
     },
     "metadata": {},
     "output_type": "display_data"
    },
    {
     "name": "stdout",
     "output_type": "stream",
     "text": [
      "--------------------------------------------------\n"
     ]
    }
   ],
   "source": [
    "for column in categorical_columns:\n",
    "    display(df[column].value_counts(normalize=True).round(3))\n",
    "    print(\"-\" * 50)"
   ]
  },
  {
   "cell_type": "markdown",
   "metadata": {},
   "source": [
    "# Export dataset"
   ]
  },
  {
   "cell_type": "code",
   "execution_count": null,
   "metadata": {},
   "outputs": [],
   "source": [
    "df.to_csv(\"../server/data.csv\", index=False)"
   ]
  }
 ],
 "metadata": {
  "kernelspec": {
   "display_name": "general",
   "language": "python",
   "name": "python3"
  },
  "language_info": {
   "codemirror_mode": {
    "name": "ipython",
    "version": 3
   },
   "file_extension": ".py",
   "mimetype": "text/x-python",
   "name": "python",
   "nbconvert_exporter": "python",
   "pygments_lexer": "ipython3",
   "version": "3.10.14"
  }
 },
 "nbformat": 4,
 "nbformat_minor": 2
}
